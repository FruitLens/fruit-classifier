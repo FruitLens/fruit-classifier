{
 "cells": [
  {
   "cell_type": "code",
   "execution_count": 6,
   "id": "12529a94",
   "metadata": {},
   "outputs": [
    {
     "name": "stderr",
     "output_type": "stream",
     "text": [
      "2023-06-06 00:16:06.656640: I tensorflow/core/platform/cpu_feature_guard.cc:182] This TensorFlow binary is optimized to use available CPU instructions in performance-critical operations.\n",
      "To enable the following instructions: SSE4.1 SSE4.2 AVX AVX2 AVX512F FMA, in other operations, rebuild TensorFlow with the appropriate compiler flags.\n"
     ]
    }
   ],
   "source": [
    "import cv2 as cv\n",
    "import imghdr\n",
    "import matplotlib.pyplot as plt\n",
    "import numpy as np\n",
    "import PIL\n",
    "import os\n",
    "import tensorflow as tf\n",
    "from tensorflow import keras\n",
    "from keras import layers\n",
    "from keras.models import Sequential\n",
    "from sklearn.decomposition import PCA"
   ]
  },
  {
   "cell_type": "code",
   "execution_count": 14,
   "id": "972d06dc",
   "metadata": {},
   "outputs": [],
   "source": [
    "data_dir = r\"/home/ec2-user/dataset/train\"\n",
    "img_exts = [\"jpeg\", \"jpg\", \"png\"]"
   ]
  },
  {
   "cell_type": "code",
   "execution_count": 15,
   "id": "338768d8",
   "metadata": {},
   "outputs": [],
   "source": [
    "def pca_fit(img):\n",
    "    (b,g,r) =  cv.split(img)\n",
    "    r, g, b = r/255, g/255, b/255\n",
    "    pca_components = 50\n",
    "\n",
    "    pca_r = PCA(n_components=pca_components)\n",
    "    r_reduz = pca_r.fit_transform(r)\n",
    "    pca_g = PCA(n_components=pca_components)\n",
    "    g_reduz = pca_g.fit_transform(g)\n",
    "    pca_b = PCA(n_components=pca_components)\n",
    "    b_reduz = pca_b.fit_transform(b)\n",
    "    \n",
    "    recog_r = pca_r.inverse_transform(r_reduz)\n",
    "    recog_g = pca_g.inverse_transform(g_reduz)\n",
    "    recog_b = pca_b.inverse_transform(b_reduz)\n",
    "    \n",
    "    return cv.merge((recog_r, recog_g, recog_b))"
   ]
  },
  {
   "cell_type": "code",
   "execution_count": 47,
   "id": "8a9db14d",
   "metadata": {},
   "outputs": [],
   "source": [
    "X = []\n",
    "y = []\n",
    "\n",
    "for img_class in os.listdir(data_dir):\n",
    "    for img in os.listdir(os.path.join(data_dir, img_class)):\n",
    "        img_path = os.path.join(data_dir, img_class, img)\n",
    "        try:\n",
    "            img_read = cv.imread(img_path)\n",
    "            _type = imghdr.what(img_path)\n",
    "            if _type not in img_exts:\n",
    "                print(\"img extension not in img_exts {}\".format(img_path))\n",
    "                os.remove(img_path)\n",
    "            new_img = pca_fit(img_read)\n",
    "            cv.imwrite(r\"/home/ec2-user/dataset_pca/train/{}/{}\".format(img_class, img), new_img)\n",
    "        except Exception as e:\n",
    "            print(\"issue with image {}\".format(img_path))"
   ]
  },
  {
   "cell_type": "code",
   "execution_count": 5,
   "id": "84cf7754",
   "metadata": {},
   "outputs": [
    {
     "data": {
      "text/plain": [
       "<matplotlib.image.AxesImage at 0x7f5d719f08e0>"
      ]
     },
     "execution_count": 5,
     "metadata": {},
     "output_type": "execute_result"
    },
    {
     "data": {
      "image/png": "[encoded data removed]",
      "text/plain": [
       "<Figure size 640x480 with 1 Axes>"
      ]
     },
     "metadata": {},
     "output_type": "display_data"
    }
   ],
   "source": [
    "import cv2 as cv\n",
    "import matplotlib.pyplot as plt\n",
    "test_img_path = cv.imread(r\"/home/ec2-user/dataset_pca/train/{}/{}\".format(\"apple\", \"20190809_115439.jpg\"))\n",
    "plt.imshow(cv.cvtColor(test_img_path, cv.COLOR_BGR2RGB))"
   ]
  }
 ],
 "metadata": {
  "kernelspec": {
   "display_name": "fruit-lens",
   "language": "python",
   "name": "fruit-lens"
  },
  "language_info": {
   "codemirror_mode": {
    "name": "ipython",
    "version": 3
   },
   "file_extension": ".py",
   "mimetype": "text/x-python",
   "name": "python",
   "nbconvert_exporter": "python",
   "pygments_lexer": "ipython3",
   "version": "3.10.9"
  }
 },
 "nbformat": 4,
 "nbformat_minor": 5
}
